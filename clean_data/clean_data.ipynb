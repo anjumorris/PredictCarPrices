{
 "cells": [
  {
   "cell_type": "markdown",
   "metadata": {},
   "source": [
    "# Data Processing - PART 1\n",
    "\n",
    "## Clean Data\n",
    "\n",
    "Notebook that cleans all my data and outputs to final_data.csv<br>\n",
    "Note in my data collection I collected car_list.csv (grabbed links) and then car_scrap.csv (page scraped). Here i will have to merge these two.<br><br>\n",
    "Additionally I performed the data collection twice once for cars around seattle and once for cars around portland.\n",
    "Therefore I rename my files Seattle -> seattle_250.csv (contains grabbed links) seattle_car_scrap.csv (contains the page scrap for each of the stocknos in seattle_250.csv<br><br>\n",
    "\n",
    "Similarly for portland.\n",
    "I used this structure so that if need I can expand my database one city at a time. "
   ]
  },
  {
   "cell_type": "code",
   "execution_count": 3,
   "metadata": {},
   "outputs": [
    {
     "name": "stdout",
     "output_type": "stream",
     "text": [
      "Populating the interactive namespace from numpy and matplotlib\n"
     ]
    }
   ],
   "source": [
    "import numpy as np\n",
    "import pandas as pd\n",
    "import requests\n",
    "import matplotlib.pyplot as plt\n",
    "import seaborn as sns\n",
    "\n",
    "# allow render in Jupyter notebook\n",
    "%matplotlib inline\n",
    "%pylab inline \n",
    "%config IPCompleter.greedy=True\n",
    "%config InlineBackend.figure_format = 'svg'\n",
    "sns.set_style(\"white\")"
   ]
  },
  {
   "cell_type": "code",
   "execution_count": 2,
   "metadata": {},
   "outputs": [],
   "source": [
    "pd.set_option('display.max_columns', None)\n",
    "pd.set_option('display.max_rows', 30)"
   ]
  },
  {
   "cell_type": "markdown",
   "metadata": {},
   "source": [
    "### 1. Reading and looking at my data"
   ]
  },
  {
   "cell_type": "code",
   "execution_count": 3,
   "metadata": {},
   "outputs": [
    {
     "data": {
      "text/html": [
       "<div>\n",
       "<style scoped>\n",
       "    .dataframe tbody tr th:only-of-type {\n",
       "        vertical-align: middle;\n",
       "    }\n",
       "\n",
       "    .dataframe tbody tr th {\n",
       "        vertical-align: top;\n",
       "    }\n",
       "\n",
       "    .dataframe thead th {\n",
       "        text-align: right;\n",
       "    }\n",
       "</style>\n",
       "<table border=\"1\" class=\"dataframe\">\n",
       "  <thead>\n",
       "    <tr style=\"text-align: right;\">\n",
       "      <th></th>\n",
       "      <th>stock_n</th>\n",
       "      <th>year</th>\n",
       "      <th>brand</th>\n",
       "      <th>model</th>\n",
       "      <th>price</th>\n",
       "    </tr>\n",
       "  </thead>\n",
       "  <tbody>\n",
       "    <tr>\n",
       "      <th>0</th>\n",
       "      <td>16338689</td>\n",
       "      <td>2012</td>\n",
       "      <td>Honda</td>\n",
       "      <td>Accord EX-L</td>\n",
       "      <td>14998.0</td>\n",
       "    </tr>\n",
       "    <tr>\n",
       "      <th>1</th>\n",
       "      <td>16005669</td>\n",
       "      <td>2017</td>\n",
       "      <td>Honda</td>\n",
       "      <td>Accord LX-S</td>\n",
       "      <td>20998.0</td>\n",
       "    </tr>\n",
       "    <tr>\n",
       "      <th>2</th>\n",
       "      <td>16238292</td>\n",
       "      <td>2015</td>\n",
       "      <td>Honda</td>\n",
       "      <td>Accord Sport</td>\n",
       "      <td>16998.0</td>\n",
       "    </tr>\n",
       "    <tr>\n",
       "      <th>3</th>\n",
       "      <td>16238355</td>\n",
       "      <td>2017</td>\n",
       "      <td>Honda</td>\n",
       "      <td>Accord Sport SE</td>\n",
       "      <td>22998.0</td>\n",
       "    </tr>\n",
       "    <tr>\n",
       "      <th>4</th>\n",
       "      <td>16238739</td>\n",
       "      <td>2017</td>\n",
       "      <td>Honda</td>\n",
       "      <td>Accord Hybrid</td>\n",
       "      <td>22998.0</td>\n",
       "    </tr>\n",
       "  </tbody>\n",
       "</table>\n",
       "</div>"
      ],
      "text/plain": [
       "    stock_n  year  brand            model    price\n",
       "0  16338689  2012  Honda      Accord EX-L  14998.0\n",
       "1  16005669  2017  Honda      Accord LX-S  20998.0\n",
       "2  16238292  2015  Honda     Accord Sport  16998.0\n",
       "3  16238355  2017  Honda  Accord Sport SE  22998.0\n",
       "4  16238739  2017  Honda    Accord Hybrid  22998.0"
      ]
     },
     "execution_count": 3,
     "metadata": {},
     "output_type": "execute_result"
    }
   ],
   "source": [
    "#read files from car list\n",
    "car_list=pd.read_csv('../data/port_250.csv')\n",
    "car_list.drop('Unnamed: 0',axis =1, inplace = True)\n",
    "car_list.head()"
   ]
  },
  {
   "cell_type": "markdown",
   "metadata": {},
   "source": [
    "Labelling for car brands makes sense for \n",
    "Ford             174\n",
    "Toyota           155\n",
    "Chevrolet        114\n",
    "Nissan           101\n",
    "Dodge             72\n",
    "Hyundai           71\n",
    "Jeep              65\n",
    "Honda             64\n",
    "BMW               49\n",
    "covers 70% of the market \n",
    "maybe kia, volkswagen, lexus ... beyond others"
   ]
  },
  {
   "cell_type": "code",
   "execution_count": 4,
   "metadata": {},
   "outputs": [
    {
     "data": {
      "text/html": [
       "<div>\n",
       "<style scoped>\n",
       "    .dataframe tbody tr th:only-of-type {\n",
       "        vertical-align: middle;\n",
       "    }\n",
       "\n",
       "    .dataframe tbody tr th {\n",
       "        vertical-align: top;\n",
       "    }\n",
       "\n",
       "    .dataframe thead th {\n",
       "        text-align: right;\n",
       "    }\n",
       "</style>\n",
       "<table border=\"1\" class=\"dataframe\">\n",
       "  <thead>\n",
       "    <tr style=\"text-align: right;\">\n",
       "      <th></th>\n",
       "      <th>stock_n</th>\n",
       "      <th>mileage</th>\n",
       "      <th>interior_color</th>\n",
       "      <th>exterior_color</th>\n",
       "      <th>drive_type</th>\n",
       "      <th>engine_size</th>\n",
       "      <th>num_cylinders</th>\n",
       "      <th>hp</th>\n",
       "      <th>torque</th>\n",
       "      <th>comp_ratio</th>\n",
       "      <th>cam_shaft</th>\n",
       "      <th>engine_type</th>\n",
       "      <th>bore</th>\n",
       "      <th>stroke</th>\n",
       "      <th>values_per_cylinder</th>\n",
       "      <th>fuel_cap</th>\n",
       "      <th>epa_mpg</th>\n",
       "      <th>wheel_base</th>\n",
       "      <th>length</th>\n",
       "      <th>width</th>\n",
       "      <th>height</th>\n",
       "      <th>curb_weight</th>\n",
       "      <th>leg_room</th>\n",
       "      <th>head_room</th>\n",
       "      <th>seating_cap</th>\n",
       "      <th>cargo_cap</th>\n",
       "      <th>tow_cap</th>\n",
       "      <th>pay_cap</th>\n",
       "      <th>gross</th>\n",
       "      <th>tire</th>\n",
       "      <th>trans</th>\n",
       "    </tr>\n",
       "  </thead>\n",
       "  <tbody>\n",
       "    <tr>\n",
       "      <th>0</th>\n",
       "      <td>16338689</td>\n",
       "      <td>73K</td>\n",
       "      <td>Black</td>\n",
       "      <td>Black</td>\n",
       "      <td>2WDWD</td>\n",
       "      <td>3.5L engine</td>\n",
       "      <td>6 cylinders</td>\n",
       "      <td>271 horsepower@6000rpm</td>\n",
       "      <td>254 torque@5000rpm</td>\n",
       "      <td>11:1</td>\n",
       "      <td>Single Overhead Cam</td>\n",
       "      <td>Gas</td>\n",
       "      <td>3.50</td>\n",
       "      <td>3.66</td>\n",
       "      <td>4.0</td>\n",
       "      <td>NaN</td>\n",
       "      <td>17/26</td>\n",
       "      <td>107.9\"</td>\n",
       "      <td>191.0\"</td>\n",
       "      <td>N/R</td>\n",
       "      <td>56</td>\n",
       "      <td>3410 lbs.</td>\n",
       "      <td>42.2\"</td>\n",
       "      <td>37.4\"</td>\n",
       "      <td>5/5</td>\n",
       "      <td>12 cu. ft.</td>\n",
       "      <td>1000 lbs.</td>\n",
       "      <td>850 lbs.</td>\n",
       "      <td>4475 lbs.</td>\n",
       "      <td>NaN</td>\n",
       "      <td>5-Speed Automatic</td>\n",
       "    </tr>\n",
       "    <tr>\n",
       "      <th>1</th>\n",
       "      <td>16005669</td>\n",
       "      <td>5K</td>\n",
       "      <td>Black</td>\n",
       "      <td>Blue</td>\n",
       "      <td>2WDWD</td>\n",
       "      <td>2.4L engine</td>\n",
       "      <td>4 cylinders</td>\n",
       "      <td>185 horsepower@6400rpm</td>\n",
       "      <td>NaN</td>\n",
       "      <td>11.10</td>\n",
       "      <td>Variable Timing</td>\n",
       "      <td>Gas</td>\n",
       "      <td>3.43</td>\n",
       "      <td>3.90</td>\n",
       "      <td>4.0</td>\n",
       "      <td>NaN</td>\n",
       "      <td>27/36</td>\n",
       "      <td>107.3''</td>\n",
       "      <td>189.5''</td>\n",
       "      <td>73.0''</td>\n",
       "      <td>56.5''</td>\n",
       "      <td>3248 lbs.</td>\n",
       "      <td>42.2''</td>\n",
       "      <td>39.0''</td>\n",
       "      <td>5/5</td>\n",
       "      <td>13.7 cu. ft.</td>\n",
       "      <td>NaN</td>\n",
       "      <td>NaN</td>\n",
       "      <td>NaN</td>\n",
       "      <td>NaN</td>\n",
       "      <td>NaN</td>\n",
       "    </tr>\n",
       "    <tr>\n",
       "      <th>2</th>\n",
       "      <td>16238292</td>\n",
       "      <td>40K</td>\n",
       "      <td>Black</td>\n",
       "      <td>Red</td>\n",
       "      <td>2WDWD</td>\n",
       "      <td>2.4L engine</td>\n",
       "      <td>4 cylinders</td>\n",
       "      <td>189 horsepower@6400rpm</td>\n",
       "      <td>182 torque@3900rpm</td>\n",
       "      <td>11:1</td>\n",
       "      <td>Variable Timing DOHC</td>\n",
       "      <td>Gas</td>\n",
       "      <td>3.43</td>\n",
       "      <td>3.90</td>\n",
       "      <td>4.0</td>\n",
       "      <td>NaN</td>\n",
       "      <td>27/36</td>\n",
       "      <td>109.3\"</td>\n",
       "      <td>191.4\"</td>\n",
       "      <td>72</td>\n",
       "      <td>57</td>\n",
       "      <td>3342 lbs.</td>\n",
       "      <td>42.5\"</td>\n",
       "      <td>39.1\"</td>\n",
       "      <td>5/5</td>\n",
       "      <td>16 cu. ft.</td>\n",
       "      <td>NaN</td>\n",
       "      <td>NaN</td>\n",
       "      <td>N/R</td>\n",
       "      <td>NaN</td>\n",
       "      <td>NaN</td>\n",
       "    </tr>\n",
       "    <tr>\n",
       "      <th>3</th>\n",
       "      <td>16238355</td>\n",
       "      <td>21K</td>\n",
       "      <td>Black</td>\n",
       "      <td>Black</td>\n",
       "      <td>2WDWD</td>\n",
       "      <td>2.4L engine</td>\n",
       "      <td>4 cylinders</td>\n",
       "      <td>189 horsepower@6400rpm</td>\n",
       "      <td>NaN</td>\n",
       "      <td>11.10</td>\n",
       "      <td>Variable Timing</td>\n",
       "      <td>Gas</td>\n",
       "      <td>3.43</td>\n",
       "      <td>3.90</td>\n",
       "      <td>4.0</td>\n",
       "      <td>NaN</td>\n",
       "      <td>27/36</td>\n",
       "      <td>109.3''</td>\n",
       "      <td>192.5''</td>\n",
       "      <td>72.8''</td>\n",
       "      <td>57.7''</td>\n",
       "      <td>3369 lbs.</td>\n",
       "      <td>42.5''</td>\n",
       "      <td>39.1''</td>\n",
       "      <td>5/5</td>\n",
       "      <td>15.8 cu. ft.</td>\n",
       "      <td>NaN</td>\n",
       "      <td>NaN</td>\n",
       "      <td>NaN</td>\n",
       "      <td>NaN</td>\n",
       "      <td>NaN</td>\n",
       "    </tr>\n",
       "    <tr>\n",
       "      <th>4</th>\n",
       "      <td>16238739</td>\n",
       "      <td>23K</td>\n",
       "      <td>Tan</td>\n",
       "      <td>Blue</td>\n",
       "      <td>2WDWD</td>\n",
       "      <td>2.0L engine</td>\n",
       "      <td>4 cylinders</td>\n",
       "      <td>212 horsepower@6200rpm</td>\n",
       "      <td>NaN</td>\n",
       "      <td>13.00</td>\n",
       "      <td>Variable Timing</td>\n",
       "      <td>Gas/Electric</td>\n",
       "      <td>3.19</td>\n",
       "      <td>3.81</td>\n",
       "      <td>4.0</td>\n",
       "      <td>NaN</td>\n",
       "      <td>49/47</td>\n",
       "      <td>109.3''</td>\n",
       "      <td>194.1''</td>\n",
       "      <td>72.8''</td>\n",
       "      <td>57.5''</td>\n",
       "      <td>3550 lbs.</td>\n",
       "      <td>42.5''</td>\n",
       "      <td>39.5''</td>\n",
       "      <td>5/5</td>\n",
       "      <td>13.5 cu. ft.</td>\n",
       "      <td>NaN</td>\n",
       "      <td>NaN</td>\n",
       "      <td>NaN</td>\n",
       "      <td>NaN</td>\n",
       "      <td>NaN</td>\n",
       "    </tr>\n",
       "  </tbody>\n",
       "</table>\n",
       "</div>"
      ],
      "text/plain": [
       "    stock_n mileage interior_color exterior_color drive_type  engine_size  \\\n",
       "0  16338689     73K          Black          Black      2WDWD  3.5L engine   \n",
       "1  16005669      5K          Black           Blue      2WDWD  2.4L engine   \n",
       "2  16238292     40K          Black            Red      2WDWD  2.4L engine   \n",
       "3  16238355     21K          Black          Black      2WDWD  2.4L engine   \n",
       "4  16238739     23K            Tan           Blue      2WDWD  2.0L engine   \n",
       "\n",
       "  num_cylinders                      hp              torque comp_ratio  \\\n",
       "0   6 cylinders  271 horsepower@6000rpm  254 torque@5000rpm       11:1   \n",
       "1   4 cylinders  185 horsepower@6400rpm                 NaN      11.10   \n",
       "2   4 cylinders  189 horsepower@6400rpm  182 torque@3900rpm       11:1   \n",
       "3   4 cylinders  189 horsepower@6400rpm                 NaN      11.10   \n",
       "4   4 cylinders  212 horsepower@6200rpm                 NaN      13.00   \n",
       "\n",
       "              cam_shaft   engine_type  bore  stroke  values_per_cylinder  \\\n",
       "0   Single Overhead Cam           Gas  3.50    3.66                  4.0   \n",
       "1       Variable Timing           Gas  3.43    3.90                  4.0   \n",
       "2  Variable Timing DOHC           Gas  3.43    3.90                  4.0   \n",
       "3       Variable Timing           Gas  3.43    3.90                  4.0   \n",
       "4       Variable Timing  Gas/Electric  3.19    3.81                  4.0   \n",
       "\n",
       "   fuel_cap epa_mpg wheel_base   length   width  height curb_weight leg_room  \\\n",
       "0       NaN   17/26     107.9\"   191.0\"     N/R      56   3410 lbs.    42.2\"   \n",
       "1       NaN   27/36    107.3''  189.5''  73.0''  56.5''   3248 lbs.   42.2''   \n",
       "2       NaN   27/36     109.3\"   191.4\"      72      57   3342 lbs.    42.5\"   \n",
       "3       NaN   27/36    109.3''  192.5''  72.8''  57.7''   3369 lbs.   42.5''   \n",
       "4       NaN   49/47    109.3''  194.1''  72.8''  57.5''   3550 lbs.   42.5''   \n",
       "\n",
       "  head_room seating_cap     cargo_cap    tow_cap   pay_cap      gross  tire  \\\n",
       "0     37.4\"         5/5    12 cu. ft.  1000 lbs.  850 lbs.  4475 lbs.   NaN   \n",
       "1    39.0''         5/5  13.7 cu. ft.        NaN       NaN        NaN   NaN   \n",
       "2     39.1\"         5/5    16 cu. ft.        NaN       NaN        N/R   NaN   \n",
       "3    39.1''         5/5  15.8 cu. ft.        NaN       NaN        NaN   NaN   \n",
       "4    39.5''         5/5  13.5 cu. ft.        NaN       NaN        NaN   NaN   \n",
       "\n",
       "               trans  \n",
       "0  5-Speed Automatic  \n",
       "1                NaN  \n",
       "2                NaN  \n",
       "3                NaN  \n",
       "4                NaN  "
      ]
     },
     "execution_count": 4,
     "metadata": {},
     "output_type": "execute_result"
    }
   ],
   "source": [
    "# read scrapped details\n",
    "car_details=pd.read_csv('../data/port_car_scrap.csv')\n",
    "car_details.drop('Unnamed: 0',axis =1, inplace = True)\n",
    "car_details.head()"
   ]
  },
  {
   "cell_type": "code",
   "execution_count": 5,
   "metadata": {},
   "outputs": [
    {
     "name": "stdout",
     "output_type": "stream",
     "text": [
      "(1030, 31)\n",
      "<class 'pandas.core.frame.DataFrame'>\n",
      "RangeIndex: 1030 entries, 0 to 1029\n",
      "Data columns (total 31 columns):\n",
      "stock_n                1030 non-null int64\n",
      "mileage                1030 non-null object\n",
      "interior_color         1020 non-null object\n",
      "exterior_color         1030 non-null object\n",
      "drive_type             1029 non-null object\n",
      "engine_size            1030 non-null object\n",
      "num_cylinders          1018 non-null object\n",
      "hp                     1018 non-null object\n",
      "torque                 797 non-null object\n",
      "comp_ratio             999 non-null object\n",
      "cam_shaft              992 non-null object\n",
      "engine_type            1018 non-null object\n",
      "bore                   1016 non-null float64\n",
      "stroke                 1016 non-null float64\n",
      "values_per_cylinder    1018 non-null float64\n",
      "fuel_cap               48 non-null float64\n",
      "epa_mpg                991 non-null object\n",
      "wheel_base             1015 non-null object\n",
      "length                 1015 non-null object\n",
      "width                  1015 non-null object\n",
      "height                 1015 non-null object\n",
      "curb_weight            1015 non-null object\n",
      "leg_room               1014 non-null object\n",
      "head_room              1014 non-null object\n",
      "seating_cap            1015 non-null object\n",
      "cargo_cap              990 non-null object\n",
      "tow_cap                398 non-null object\n",
      "pay_cap                371 non-null object\n",
      "gross                  920 non-null object\n",
      "tire                   0 non-null float64\n",
      "trans                  62 non-null object\n",
      "dtypes: float64(5), int64(1), object(25)\n",
      "memory usage: 249.5+ KB\n",
      "None\n"
     ]
    }
   ],
   "source": [
    "print(car_details.shape)\n",
    "print(car_details.info())"
   ]
  },
  {
   "cell_type": "markdown",
   "metadata": {},
   "source": [
    "### 2. Remove null entries"
   ]
  },
  {
   "cell_type": "code",
   "execution_count": 6,
   "metadata": {},
   "outputs": [],
   "source": [
    "#remove columns that have high number of null\n",
    "#'torque',fuel_cap, tow_cap, 'tow_cap','pay_cap','gross','tire','trans'\n",
    "\n",
    "heading_keep =['stock_n','mileage','interior_color','exterior_color',\\\n",
    "          'drive_type','engine_size','num_cylinders','hp',\\\n",
    "          'comp_ratio','cam_shaft','engine_type','bore',\\\n",
    "          'stroke','values_per_cylinder','epa_mpg','wheel_base',\\\n",
    "          'length','width','height','curb_weight','leg_room',\\\n",
    "          'head_room','seating_cap','cargo_cap']\n",
    "car_details= car_details[heading_keep]"
   ]
  },
  {
   "cell_type": "code",
   "execution_count": 7,
   "metadata": {},
   "outputs": [
    {
     "name": "stdout",
     "output_type": "stream",
     "text": [
      "<class 'pandas.core.frame.DataFrame'>\n",
      "Int64Index: 925 entries, 0 to 1029\n",
      "Data columns (total 24 columns):\n",
      "stock_n                925 non-null int64\n",
      "mileage                925 non-null object\n",
      "interior_color         925 non-null object\n",
      "exterior_color         925 non-null object\n",
      "drive_type             925 non-null object\n",
      "engine_size            925 non-null object\n",
      "num_cylinders          925 non-null object\n",
      "hp                     925 non-null object\n",
      "comp_ratio             925 non-null object\n",
      "cam_shaft              925 non-null object\n",
      "engine_type            925 non-null object\n",
      "bore                   925 non-null float64\n",
      "stroke                 925 non-null float64\n",
      "values_per_cylinder    925 non-null float64\n",
      "epa_mpg                925 non-null object\n",
      "wheel_base             925 non-null object\n",
      "length                 925 non-null object\n",
      "width                  925 non-null object\n",
      "height                 925 non-null object\n",
      "curb_weight            925 non-null object\n",
      "leg_room               925 non-null object\n",
      "head_room              925 non-null object\n",
      "seating_cap            925 non-null object\n",
      "cargo_cap              925 non-null object\n",
      "dtypes: float64(3), int64(1), object(20)\n",
      "memory usage: 180.7+ KB\n",
      "None\n"
     ]
    }
   ],
   "source": [
    "# drop null entry rows\n",
    "car_details=car_details.dropna()\n",
    "print(car_details.info())"
   ]
  },
  {
   "cell_type": "code",
   "execution_count": 8,
   "metadata": {},
   "outputs": [
    {
     "data": {
      "text/html": [
       "<div>\n",
       "<style scoped>\n",
       "    .dataframe tbody tr th:only-of-type {\n",
       "        vertical-align: middle;\n",
       "    }\n",
       "\n",
       "    .dataframe tbody tr th {\n",
       "        vertical-align: top;\n",
       "    }\n",
       "\n",
       "    .dataframe thead th {\n",
       "        text-align: right;\n",
       "    }\n",
       "</style>\n",
       "<table border=\"1\" class=\"dataframe\">\n",
       "  <thead>\n",
       "    <tr style=\"text-align: right;\">\n",
       "      <th></th>\n",
       "      <th>stock_n</th>\n",
       "      <th>mileage</th>\n",
       "      <th>interior_color</th>\n",
       "      <th>exterior_color</th>\n",
       "      <th>drive_type</th>\n",
       "      <th>engine_size</th>\n",
       "      <th>num_cylinders</th>\n",
       "      <th>hp</th>\n",
       "      <th>comp_ratio</th>\n",
       "      <th>cam_shaft</th>\n",
       "      <th>engine_type</th>\n",
       "      <th>bore</th>\n",
       "      <th>stroke</th>\n",
       "      <th>values_per_cylinder</th>\n",
       "      <th>epa_mpg</th>\n",
       "      <th>wheel_base</th>\n",
       "      <th>length</th>\n",
       "      <th>width</th>\n",
       "      <th>height</th>\n",
       "      <th>curb_weight</th>\n",
       "      <th>leg_room</th>\n",
       "      <th>head_room</th>\n",
       "      <th>seating_cap</th>\n",
       "      <th>cargo_cap</th>\n",
       "    </tr>\n",
       "  </thead>\n",
       "  <tbody>\n",
       "    <tr>\n",
       "      <th>0</th>\n",
       "      <td>16338689</td>\n",
       "      <td>73K</td>\n",
       "      <td>Black</td>\n",
       "      <td>Black</td>\n",
       "      <td>2WDWD</td>\n",
       "      <td>3.5L engine</td>\n",
       "      <td>6 cylinders</td>\n",
       "      <td>271 horsepower@6000rpm</td>\n",
       "      <td>11:1</td>\n",
       "      <td>Single Overhead Cam</td>\n",
       "      <td>Gas</td>\n",
       "      <td>3.50</td>\n",
       "      <td>3.66</td>\n",
       "      <td>4.0</td>\n",
       "      <td>17/26</td>\n",
       "      <td>107.9\"</td>\n",
       "      <td>191.0\"</td>\n",
       "      <td>N/R</td>\n",
       "      <td>56</td>\n",
       "      <td>3410 lbs.</td>\n",
       "      <td>42.2\"</td>\n",
       "      <td>37.4\"</td>\n",
       "      <td>5/5</td>\n",
       "      <td>12 cu. ft.</td>\n",
       "    </tr>\n",
       "    <tr>\n",
       "      <th>1</th>\n",
       "      <td>16005669</td>\n",
       "      <td>5K</td>\n",
       "      <td>Black</td>\n",
       "      <td>Blue</td>\n",
       "      <td>2WDWD</td>\n",
       "      <td>2.4L engine</td>\n",
       "      <td>4 cylinders</td>\n",
       "      <td>185 horsepower@6400rpm</td>\n",
       "      <td>11.10</td>\n",
       "      <td>Variable Timing</td>\n",
       "      <td>Gas</td>\n",
       "      <td>3.43</td>\n",
       "      <td>3.90</td>\n",
       "      <td>4.0</td>\n",
       "      <td>27/36</td>\n",
       "      <td>107.3''</td>\n",
       "      <td>189.5''</td>\n",
       "      <td>73.0''</td>\n",
       "      <td>56.5''</td>\n",
       "      <td>3248 lbs.</td>\n",
       "      <td>42.2''</td>\n",
       "      <td>39.0''</td>\n",
       "      <td>5/5</td>\n",
       "      <td>13.7 cu. ft.</td>\n",
       "    </tr>\n",
       "    <tr>\n",
       "      <th>2</th>\n",
       "      <td>16238292</td>\n",
       "      <td>40K</td>\n",
       "      <td>Black</td>\n",
       "      <td>Red</td>\n",
       "      <td>2WDWD</td>\n",
       "      <td>2.4L engine</td>\n",
       "      <td>4 cylinders</td>\n",
       "      <td>189 horsepower@6400rpm</td>\n",
       "      <td>11:1</td>\n",
       "      <td>Variable Timing DOHC</td>\n",
       "      <td>Gas</td>\n",
       "      <td>3.43</td>\n",
       "      <td>3.90</td>\n",
       "      <td>4.0</td>\n",
       "      <td>27/36</td>\n",
       "      <td>109.3\"</td>\n",
       "      <td>191.4\"</td>\n",
       "      <td>72</td>\n",
       "      <td>57</td>\n",
       "      <td>3342 lbs.</td>\n",
       "      <td>42.5\"</td>\n",
       "      <td>39.1\"</td>\n",
       "      <td>5/5</td>\n",
       "      <td>16 cu. ft.</td>\n",
       "    </tr>\n",
       "    <tr>\n",
       "      <th>3</th>\n",
       "      <td>16238355</td>\n",
       "      <td>21K</td>\n",
       "      <td>Black</td>\n",
       "      <td>Black</td>\n",
       "      <td>2WDWD</td>\n",
       "      <td>2.4L engine</td>\n",
       "      <td>4 cylinders</td>\n",
       "      <td>189 horsepower@6400rpm</td>\n",
       "      <td>11.10</td>\n",
       "      <td>Variable Timing</td>\n",
       "      <td>Gas</td>\n",
       "      <td>3.43</td>\n",
       "      <td>3.90</td>\n",
       "      <td>4.0</td>\n",
       "      <td>27/36</td>\n",
       "      <td>109.3''</td>\n",
       "      <td>192.5''</td>\n",
       "      <td>72.8''</td>\n",
       "      <td>57.7''</td>\n",
       "      <td>3369 lbs.</td>\n",
       "      <td>42.5''</td>\n",
       "      <td>39.1''</td>\n",
       "      <td>5/5</td>\n",
       "      <td>15.8 cu. ft.</td>\n",
       "    </tr>\n",
       "    <tr>\n",
       "      <th>4</th>\n",
       "      <td>16238739</td>\n",
       "      <td>23K</td>\n",
       "      <td>Tan</td>\n",
       "      <td>Blue</td>\n",
       "      <td>2WDWD</td>\n",
       "      <td>2.0L engine</td>\n",
       "      <td>4 cylinders</td>\n",
       "      <td>212 horsepower@6200rpm</td>\n",
       "      <td>13.00</td>\n",
       "      <td>Variable Timing</td>\n",
       "      <td>Gas/Electric</td>\n",
       "      <td>3.19</td>\n",
       "      <td>3.81</td>\n",
       "      <td>4.0</td>\n",
       "      <td>49/47</td>\n",
       "      <td>109.3''</td>\n",
       "      <td>194.1''</td>\n",
       "      <td>72.8''</td>\n",
       "      <td>57.5''</td>\n",
       "      <td>3550 lbs.</td>\n",
       "      <td>42.5''</td>\n",
       "      <td>39.5''</td>\n",
       "      <td>5/5</td>\n",
       "      <td>13.5 cu. ft.</td>\n",
       "    </tr>\n",
       "  </tbody>\n",
       "</table>\n",
       "</div>"
      ],
      "text/plain": [
       "    stock_n mileage interior_color exterior_color drive_type  engine_size  \\\n",
       "0  16338689     73K          Black          Black      2WDWD  3.5L engine   \n",
       "1  16005669      5K          Black           Blue      2WDWD  2.4L engine   \n",
       "2  16238292     40K          Black            Red      2WDWD  2.4L engine   \n",
       "3  16238355     21K          Black          Black      2WDWD  2.4L engine   \n",
       "4  16238739     23K            Tan           Blue      2WDWD  2.0L engine   \n",
       "\n",
       "  num_cylinders                      hp comp_ratio             cam_shaft  \\\n",
       "0   6 cylinders  271 horsepower@6000rpm       11:1   Single Overhead Cam   \n",
       "1   4 cylinders  185 horsepower@6400rpm      11.10       Variable Timing   \n",
       "2   4 cylinders  189 horsepower@6400rpm       11:1  Variable Timing DOHC   \n",
       "3   4 cylinders  189 horsepower@6400rpm      11.10       Variable Timing   \n",
       "4   4 cylinders  212 horsepower@6200rpm      13.00       Variable Timing   \n",
       "\n",
       "    engine_type  bore  stroke  values_per_cylinder epa_mpg wheel_base  \\\n",
       "0           Gas  3.50    3.66                  4.0   17/26     107.9\"   \n",
       "1           Gas  3.43    3.90                  4.0   27/36    107.3''   \n",
       "2           Gas  3.43    3.90                  4.0   27/36     109.3\"   \n",
       "3           Gas  3.43    3.90                  4.0   27/36    109.3''   \n",
       "4  Gas/Electric  3.19    3.81                  4.0   49/47    109.3''   \n",
       "\n",
       "    length   width  height curb_weight leg_room head_room seating_cap  \\\n",
       "0   191.0\"     N/R      56   3410 lbs.    42.2\"     37.4\"         5/5   \n",
       "1  189.5''  73.0''  56.5''   3248 lbs.   42.2''    39.0''         5/5   \n",
       "2   191.4\"      72      57   3342 lbs.    42.5\"     39.1\"         5/5   \n",
       "3  192.5''  72.8''  57.7''   3369 lbs.   42.5''    39.1''         5/5   \n",
       "4  194.1''  72.8''  57.5''   3550 lbs.   42.5''    39.5''         5/5   \n",
       "\n",
       "      cargo_cap  \n",
       "0    12 cu. ft.  \n",
       "1  13.7 cu. ft.  \n",
       "2    16 cu. ft.  \n",
       "3  15.8 cu. ft.  \n",
       "4  13.5 cu. ft.  "
      ]
     },
     "execution_count": 8,
     "metadata": {},
     "output_type": "execute_result"
    }
   ],
   "source": [
    "car_details.head()"
   ]
  },
  {
   "cell_type": "markdown",
   "metadata": {},
   "source": [
    "### 3. Clean each column"
   ]
  },
  {
   "cell_type": "code",
   "execution_count": 9,
   "metadata": {},
   "outputs": [],
   "source": [
    "# clean mileage\n",
    "car_details['mileage']=car_details['mileage'].str.replace('K','000').astype('int')"
   ]
  },
  {
   "cell_type": "code",
   "execution_count": 10,
   "metadata": {
    "scrolled": true
   },
   "outputs": [],
   "source": [
    "# clean cargo_cap\n",
    "car_details['cargo_cap']=car_details['cargo_cap'].str.replace('cu.',\"\")\n",
    "car_details['cargo_cap']=car_details['cargo_cap'].str.replace('ft.',\"\")\n",
    "car_details.loc[car_details['cargo_cap']=='N/R','cargo_cap']=np.nan\n",
    "car_details['cargo_cap']=car_details['cargo_cap'].str.strip().astype('float')\n",
    "#print(car_details['cargo_cap'].value_counts())"
   ]
  },
  {
   "cell_type": "code",
   "execution_count": 11,
   "metadata": {},
   "outputs": [],
   "source": [
    "#clean comp_ratio\n",
    "car_details['comp_ratio'] = car_details['comp_ratio'].str.strip()"
   ]
  },
  {
   "cell_type": "code",
   "execution_count": 12,
   "metadata": {
    "scrolled": true
   },
   "outputs": [],
   "source": [
    "# clean epa_mpg city/highway split it out\n",
    "car_details['city_mpg'] = car_details['epa_mpg'].str.split('/',n=1,expand=True)[0]\n",
    "car_details['hw_mpg'] = car_details['epa_mpg'].str.split('/',n=1,expand=True)[1]\n",
    "car_details['hw_mpg'] = car_details['hw_mpg'].astype('int')\n",
    "car_details['city_mpg'] = car_details['city_mpg'].astype('int')\n",
    "car_details = car_details.drop(columns=['epa_mpg'])\n",
    "#car_details.head()"
   ]
  },
  {
   "cell_type": "code",
   "execution_count": 13,
   "metadata": {},
   "outputs": [
    {
     "name": "stdout",
     "output_type": "stream",
     "text": [
      "['Black' 'Tan' 'Gray' 'Brown' 'Cream' 'Red' 'Burgundy']\n",
      "['Black' 'Blue' 'Red' 'Silver' 'Gray' 'White' 'Burgundy' 'Green' 'Gold'\n",
      " 'Brown' 'Purple' 'Maroon' 'Orange' 'Tan' 'Yellow']\n"
     ]
    }
   ],
   "source": [
    "# clean interior and exterior color\n",
    "car_details['interior_color']=car_details['interior_color'].str.strip()\n",
    "print(car_details['interior_color'].unique())\n",
    "car_details['exterior_color']=car_details['exterior_color'].str.strip()\n",
    "print(car_details['exterior_color'].unique())"
   ]
  },
  {
   "cell_type": "code",
   "execution_count": 14,
   "metadata": {},
   "outputs": [
    {
     "name": "stdout",
     "output_type": "stream",
     "text": [
      "['2WDWD' '4WDWD' '2WD']\n",
      "2WDWD    625\n",
      "4WDWD    293\n",
      "2WD        7\n",
      "Name: drive_type, dtype: int64\n"
     ]
    }
   ],
   "source": [
    "# looking at drive type\n",
    "car_details['drive_type']=car_details['drive_type'].str.strip()\n",
    "print(car_details['drive_type'].unique())\n",
    "print(car_details['drive_type'].value_counts())"
   ]
  },
  {
   "cell_type": "code",
   "execution_count": 15,
   "metadata": {},
   "outputs": [],
   "source": [
    "# replace 2WD... with just 2 or 4\n",
    "car_details['drive_type']=car_details['drive_type'].str.replace('WD','').astype('int')\n",
    "#car_details.head()"
   ]
  },
  {
   "cell_type": "code",
   "execution_count": 16,
   "metadata": {},
   "outputs": [],
   "source": [
    "# engine_size\n",
    "car_details['engine_size']=car_details['engine_size'].str.strip()\n",
    "\n",
    "#print(car_details['engine_size'].unique())\n",
    "#print(car_details['engine_size'].value_counts())\n",
    "car_details['engine_size'] = car_details['engine_size'].str.replace('engine','')\n",
    "car_details['engine_size'] = car_details['engine_size'].str.replace('L','')\n",
    "car_details.loc[car_details['engine_size']=='N/A','engine_size']=np.nan\n",
    "car_details['engine_size'] = car_details['engine_size'].str.strip().astype('float')"
   ]
  },
  {
   "cell_type": "code",
   "execution_count": 17,
   "metadata": {},
   "outputs": [
    {
     "name": "stdout",
     "output_type": "stream",
     "text": [
      "[6 4 8 3 5]\n"
     ]
    }
   ],
   "source": [
    "# engine_size\n",
    "car_details['num_cylinders'] = car_details['num_cylinders'].str.replace('cylinders','')\n",
    "car_details['num_cylinders']=car_details['num_cylinders'].str.strip().astype('int')\n",
    "print(car_details['num_cylinders'].unique())\n"
   ]
  },
  {
   "cell_type": "code",
   "execution_count": 18,
   "metadata": {},
   "outputs": [
    {
     "name": "stdout",
     "output_type": "stream",
     "text": [
      "[271 185 189 212 196 140 174 130 117 248 138 148 145 147 198 201 303 306\n",
      " 328 265 184 172 290 160 285 420 192 164 181 268 301 204 383 270 245 325\n",
      " 365 380 167 153 302 210  74 332 182 261 260 170 109 179 158 250 152 224\n",
      " 175 178 132  98 134  99 176 266 278 200 240 300 273 279 205 220 252 255\n",
      " 180 202 310 305 169  84 355 281 149 173 283 292 287 295 370 101 188 435\n",
      " 288 143 280 311 190 235 275 146 228 390 284 317  94 128 256 236 115 211\n",
      " 230 308 304 335 372 360 120 315 141 177 159 276 187 161 155 241 208 118\n",
      "  78 168 122 381 106 272 450 320 151 195 395 385 166 137 330 400 340   0\n",
      " 291 197 259 231 121 555 323 165 144 227]\n"
     ]
    }
   ],
   "source": [
    "# hp \n",
    "car_details['hp']=car_details['hp'].str.strip()\n",
    "\n",
    "car_details['hp'] = car_details['hp'].str.split(' ',n=1,expand=True)\n",
    "\n",
    "car_details['hp'] = car_details['hp'].str.strip().astype('int')\n",
    "print(car_details['hp'].unique())"
   ]
  },
  {
   "cell_type": "code",
   "execution_count": 19,
   "metadata": {},
   "outputs": [
    {
     "name": "stdout",
     "output_type": "stream",
     "text": [
      "['Single Overhead Cam' 'Variable Timing' 'Variable Timing DOHC'\n",
      " 'Dual Overhead Cam' 'Variable Timing OHC' 'DOHC' 'OHC' 'Overhead Valve']\n"
     ]
    }
   ],
   "source": [
    "# cam_shaft\n",
    "car_details['cam_shaft']=car_details['cam_shaft'].str.strip()\n",
    "print(car_details['cam_shaft'].unique())"
   ]
  },
  {
   "cell_type": "code",
   "execution_count": 20,
   "metadata": {},
   "outputs": [
    {
     "name": "stdout",
     "output_type": "stream",
     "text": [
      "['Gas' 'Gas/Electric' 'Turbo Gas' 'Ethanol/Gas' 'Turbo Diesel'\n",
      " 'Supercharged']\n",
      "Gas             664\n",
      "Turbo Gas       165\n",
      "Ethanol/Gas      52\n",
      "Gas/Electric     36\n",
      "Turbo Diesel      5\n",
      "Supercharged      3\n",
      "Name: engine_type, dtype: int64\n"
     ]
    }
   ],
   "source": [
    "# engine_type\n",
    "car_details['engine_type']=car_details['engine_type'].str.strip()\n",
    "print(car_details['engine_type'].unique())\n",
    "print(car_details['engine_type'].value_counts())"
   ]
  },
  {
   "cell_type": "code",
   "execution_count": 21,
   "metadata": {
    "scrolled": true
   },
   "outputs": [
    {
     "name": "stdout",
     "output_type": "stream",
     "text": [
      "3.46    90\n",
      "3.70    85\n",
      "3.50    75\n",
      "3.78    72\n",
      "3.54    51\n",
      "3.19    42\n",
      "3.17    40\n",
      "3.76    40\n",
      "3.25    37\n",
      "3.44    28\n",
      "3.43    25\n",
      "3.45    23\n",
      "3.39    23\n",
      "3.03    22\n",
      "3.64    21\n",
      "        ..\n",
      "3.86     4\n",
      "3.30     3\n",
      "2.89     2\n",
      "3.10     2\n",
      "3.20     2\n",
      "3.16     2\n",
      "3.42     2\n",
      "3.58     2\n",
      "3.95     2\n",
      "4.07     1\n",
      "3.38     1\n",
      "3.24     1\n",
      "3.75     1\n",
      "4.21     1\n",
      "3.35     1\n",
      "Name: bore, Length: 53, dtype: int64\n",
      "3.27    134\n",
      "3.82     77\n",
      "3.86     54\n",
      "3.94     53\n",
      "3.39     39\n",
      "3.62     39\n",
      "3.48     38\n",
      "3.65     32\n",
      "3.20     32\n",
      "3.41     31\n",
      "3.90     27\n",
      "3.36     26\n",
      "3.55     24\n",
      "3.43     24\n",
      "3.31     19\n",
      "       ... \n",
      "4.13      2\n",
      "3.28      1\n",
      "3.10      1\n",
      "3.80      1\n",
      "3.45      1\n",
      "3.60      1\n",
      "2.72      1\n",
      "3.72      1\n",
      "4.88      1\n",
      "3.93      1\n",
      "3.13      1\n",
      "3.33      1\n",
      "3.53      1\n",
      "3.17      1\n",
      "3.46      1\n",
      "Name: stroke, Length: 67, dtype: int64\n",
      "4.0    871\n",
      "2.0     41\n",
      "0.0     13\n",
      "Name: values_per_cylinder, dtype: int64\n"
     ]
    }
   ],
   "source": [
    "#bore,stroke,values per cylinder\n",
    "print(car_details['bore'].value_counts())\n",
    "print(car_details['stroke'].value_counts())\n",
    "print(car_details['values_per_cylinder'].value_counts())\n",
    "\n",
    "# values_per... not indicative as almost all are 4 could drop "
   ]
  },
  {
   "cell_type": "code",
   "execution_count": 22,
   "metadata": {},
   "outputs": [],
   "source": [
    "# wheelbase , length, width, height, leg_room,head_room\n",
    "car_details['wheel_base']=car_details['wheel_base'].str.replace('\\\"',\"\")\n",
    "car_details['wheel_base']=car_details['wheel_base'].str.replace('\\'',\"\")\n",
    "car_details['wheel_base']=car_details['wheel_base'].str.strip().astype('float')\n",
    "\n",
    "car_details['width']=car_details['width'].str.replace('\\\"',\"\")\n",
    "car_details['width']=car_details['width'].str.replace('\\'',\"\")\n",
    "car_details.loc[car_details['width']=='N/R','width']=np.nan\n",
    "car_details['width']=car_details['width'].str.strip().astype('float')\n",
    "\n",
    "car_details['length']=car_details['length'].str.replace('\\\"',\"\")\n",
    "car_details['length']=car_details['length'].str.replace('\\'',\"\")\n",
    "car_details.loc[car_details['length']=='N/R','length']=np.nan\n",
    "car_details['length']=car_details['length'].str.strip().astype('float')\n",
    "\n",
    "car_details['height']=car_details['height'].str.replace('\\\"',\"\")\n",
    "car_details['height']=car_details['height'].str.replace('\\'',\"\")\n",
    "car_details.loc[car_details['height']=='N/R','height']=np.nan\n",
    "car_details['height']=car_details['height'].str.strip().astype('float')\n",
    "\n",
    "car_details['leg_room']=car_details['leg_room'].str.replace('\\\"',\"\")\n",
    "car_details['leg_room']=car_details['leg_room'].str.replace('\\'',\"\")\n",
    "car_details.loc[car_details['leg_room']=='N/R','leg_room']=np.nan\n",
    "car_details['leg_room']=car_details['leg_room'].str.strip().astype('float')\n",
    "\n",
    "car_details['head_room']=car_details['head_room'].str.replace('\\\"',\"\")\n",
    "car_details['head_room']=car_details['head_room'].str.replace('\\'',\"\")\n",
    "car_details.loc[car_details['head_room']=='N/R','head_room']=np.nan\n",
    "car_details['head_room']=car_details['head_room'].str.strip().astype('float')\n",
    "\n",
    "\n",
    "# print(car_details['wheel_base'].unique())\n",
    "# print(car_details['head_room'].value_counts())"
   ]
  },
  {
   "cell_type": "code",
   "execution_count": 23,
   "metadata": {},
   "outputs": [],
   "source": [
    "#curb_weight\n",
    "\n",
    "car_details['curb_weight']=car_details['curb_weight'].str.replace('lbs.',\"\")\n",
    "car_details['curb_weight']=car_details['curb_weight'].str.strip().astype('int')\n",
    "#print(car_details['curb_weight'].value_counts())"
   ]
  },
  {
   "cell_type": "code",
   "execution_count": 24,
   "metadata": {},
   "outputs": [],
   "source": [
    "# take max capacity as car cap convert x/y to max(x,y)\n",
    "\n",
    "# print(car_details['seating_cap'].value_counts())\n",
    "\n",
    "car_details['seating_cap_a'] = car_details['seating_cap'].str.split('/',n=1,expand=True)[0]\n",
    "car_details['seating_cap_b'] = car_details['seating_cap'].str.split('/',n=1,expand=True)[1]\n",
    "car_details['seating_cap'] = car_details[[\"seating_cap_a\", \"seating_cap_b\"]].max(axis=1)\n",
    "car_details['seating_cap']=car_details['seating_cap'].astype('int')\n",
    "car_details = car_details.drop(columns=['seating_cap_a', 'seating_cap_b'])"
   ]
  },
  {
   "cell_type": "code",
   "execution_count": 25,
   "metadata": {},
   "outputs": [
    {
     "data": {
      "text/html": [
       "<div>\n",
       "<style scoped>\n",
       "    .dataframe tbody tr th:only-of-type {\n",
       "        vertical-align: middle;\n",
       "    }\n",
       "\n",
       "    .dataframe tbody tr th {\n",
       "        vertical-align: top;\n",
       "    }\n",
       "\n",
       "    .dataframe thead th {\n",
       "        text-align: right;\n",
       "    }\n",
       "</style>\n",
       "<table border=\"1\" class=\"dataframe\">\n",
       "  <thead>\n",
       "    <tr style=\"text-align: right;\">\n",
       "      <th></th>\n",
       "      <th>stock_n</th>\n",
       "      <th>mileage</th>\n",
       "      <th>interior_color</th>\n",
       "      <th>exterior_color</th>\n",
       "      <th>drive_type</th>\n",
       "      <th>engine_size</th>\n",
       "      <th>num_cylinders</th>\n",
       "      <th>hp</th>\n",
       "      <th>comp_ratio</th>\n",
       "      <th>cam_shaft</th>\n",
       "      <th>engine_type</th>\n",
       "      <th>bore</th>\n",
       "      <th>stroke</th>\n",
       "      <th>values_per_cylinder</th>\n",
       "      <th>wheel_base</th>\n",
       "      <th>length</th>\n",
       "      <th>width</th>\n",
       "      <th>height</th>\n",
       "      <th>curb_weight</th>\n",
       "      <th>leg_room</th>\n",
       "      <th>head_room</th>\n",
       "      <th>seating_cap</th>\n",
       "      <th>cargo_cap</th>\n",
       "      <th>city_mpg</th>\n",
       "      <th>hw_mpg</th>\n",
       "    </tr>\n",
       "  </thead>\n",
       "  <tbody>\n",
       "    <tr>\n",
       "      <th>0</th>\n",
       "      <td>16338689</td>\n",
       "      <td>73000</td>\n",
       "      <td>Black</td>\n",
       "      <td>Black</td>\n",
       "      <td>2</td>\n",
       "      <td>3.5</td>\n",
       "      <td>6</td>\n",
       "      <td>271</td>\n",
       "      <td>11:1</td>\n",
       "      <td>Single Overhead Cam</td>\n",
       "      <td>Gas</td>\n",
       "      <td>3.50</td>\n",
       "      <td>3.66</td>\n",
       "      <td>4.0</td>\n",
       "      <td>107.9</td>\n",
       "      <td>191.0</td>\n",
       "      <td>NaN</td>\n",
       "      <td>56.0</td>\n",
       "      <td>3410</td>\n",
       "      <td>42.2</td>\n",
       "      <td>37.4</td>\n",
       "      <td>5</td>\n",
       "      <td>12.0</td>\n",
       "      <td>17</td>\n",
       "      <td>26</td>\n",
       "    </tr>\n",
       "    <tr>\n",
       "      <th>1</th>\n",
       "      <td>16005669</td>\n",
       "      <td>5000</td>\n",
       "      <td>Black</td>\n",
       "      <td>Blue</td>\n",
       "      <td>2</td>\n",
       "      <td>2.4</td>\n",
       "      <td>4</td>\n",
       "      <td>185</td>\n",
       "      <td>11.10</td>\n",
       "      <td>Variable Timing</td>\n",
       "      <td>Gas</td>\n",
       "      <td>3.43</td>\n",
       "      <td>3.90</td>\n",
       "      <td>4.0</td>\n",
       "      <td>107.3</td>\n",
       "      <td>189.5</td>\n",
       "      <td>73.0</td>\n",
       "      <td>56.5</td>\n",
       "      <td>3248</td>\n",
       "      <td>42.2</td>\n",
       "      <td>39.0</td>\n",
       "      <td>5</td>\n",
       "      <td>13.7</td>\n",
       "      <td>27</td>\n",
       "      <td>36</td>\n",
       "    </tr>\n",
       "    <tr>\n",
       "      <th>2</th>\n",
       "      <td>16238292</td>\n",
       "      <td>40000</td>\n",
       "      <td>Black</td>\n",
       "      <td>Red</td>\n",
       "      <td>2</td>\n",
       "      <td>2.4</td>\n",
       "      <td>4</td>\n",
       "      <td>189</td>\n",
       "      <td>11:1</td>\n",
       "      <td>Variable Timing DOHC</td>\n",
       "      <td>Gas</td>\n",
       "      <td>3.43</td>\n",
       "      <td>3.90</td>\n",
       "      <td>4.0</td>\n",
       "      <td>109.3</td>\n",
       "      <td>191.4</td>\n",
       "      <td>72.0</td>\n",
       "      <td>57.0</td>\n",
       "      <td>3342</td>\n",
       "      <td>42.5</td>\n",
       "      <td>39.1</td>\n",
       "      <td>5</td>\n",
       "      <td>16.0</td>\n",
       "      <td>27</td>\n",
       "      <td>36</td>\n",
       "    </tr>\n",
       "    <tr>\n",
       "      <th>3</th>\n",
       "      <td>16238355</td>\n",
       "      <td>21000</td>\n",
       "      <td>Black</td>\n",
       "      <td>Black</td>\n",
       "      <td>2</td>\n",
       "      <td>2.4</td>\n",
       "      <td>4</td>\n",
       "      <td>189</td>\n",
       "      <td>11.10</td>\n",
       "      <td>Variable Timing</td>\n",
       "      <td>Gas</td>\n",
       "      <td>3.43</td>\n",
       "      <td>3.90</td>\n",
       "      <td>4.0</td>\n",
       "      <td>109.3</td>\n",
       "      <td>192.5</td>\n",
       "      <td>72.8</td>\n",
       "      <td>57.7</td>\n",
       "      <td>3369</td>\n",
       "      <td>42.5</td>\n",
       "      <td>39.1</td>\n",
       "      <td>5</td>\n",
       "      <td>15.8</td>\n",
       "      <td>27</td>\n",
       "      <td>36</td>\n",
       "    </tr>\n",
       "    <tr>\n",
       "      <th>4</th>\n",
       "      <td>16238739</td>\n",
       "      <td>23000</td>\n",
       "      <td>Tan</td>\n",
       "      <td>Blue</td>\n",
       "      <td>2</td>\n",
       "      <td>2.0</td>\n",
       "      <td>4</td>\n",
       "      <td>212</td>\n",
       "      <td>13.00</td>\n",
       "      <td>Variable Timing</td>\n",
       "      <td>Gas/Electric</td>\n",
       "      <td>3.19</td>\n",
       "      <td>3.81</td>\n",
       "      <td>4.0</td>\n",
       "      <td>109.3</td>\n",
       "      <td>194.1</td>\n",
       "      <td>72.8</td>\n",
       "      <td>57.5</td>\n",
       "      <td>3550</td>\n",
       "      <td>42.5</td>\n",
       "      <td>39.5</td>\n",
       "      <td>5</td>\n",
       "      <td>13.5</td>\n",
       "      <td>49</td>\n",
       "      <td>47</td>\n",
       "    </tr>\n",
       "  </tbody>\n",
       "</table>\n",
       "</div>"
      ],
      "text/plain": [
       "    stock_n  mileage interior_color exterior_color  drive_type  engine_size  \\\n",
       "0  16338689    73000          Black          Black           2          3.5   \n",
       "1  16005669     5000          Black           Blue           2          2.4   \n",
       "2  16238292    40000          Black            Red           2          2.4   \n",
       "3  16238355    21000          Black          Black           2          2.4   \n",
       "4  16238739    23000            Tan           Blue           2          2.0   \n",
       "\n",
       "   num_cylinders   hp comp_ratio             cam_shaft   engine_type  bore  \\\n",
       "0              6  271       11:1   Single Overhead Cam           Gas  3.50   \n",
       "1              4  185      11.10       Variable Timing           Gas  3.43   \n",
       "2              4  189       11:1  Variable Timing DOHC           Gas  3.43   \n",
       "3              4  189      11.10       Variable Timing           Gas  3.43   \n",
       "4              4  212      13.00       Variable Timing  Gas/Electric  3.19   \n",
       "\n",
       "   stroke  values_per_cylinder  wheel_base  length  width  height  \\\n",
       "0    3.66                  4.0       107.9   191.0    NaN    56.0   \n",
       "1    3.90                  4.0       107.3   189.5   73.0    56.5   \n",
       "2    3.90                  4.0       109.3   191.4   72.0    57.0   \n",
       "3    3.90                  4.0       109.3   192.5   72.8    57.7   \n",
       "4    3.81                  4.0       109.3   194.1   72.8    57.5   \n",
       "\n",
       "   curb_weight  leg_room  head_room  seating_cap  cargo_cap  city_mpg  hw_mpg  \n",
       "0         3410      42.2       37.4            5       12.0        17      26  \n",
       "1         3248      42.2       39.0            5       13.7        27      36  \n",
       "2         3342      42.5       39.1            5       16.0        27      36  \n",
       "3         3369      42.5       39.1            5       15.8        27      36  \n",
       "4         3550      42.5       39.5            5       13.5        49      47  "
      ]
     },
     "execution_count": 25,
     "metadata": {},
     "output_type": "execute_result"
    }
   ],
   "source": [
    "car_details.head()"
   ]
  },
  {
   "cell_type": "code",
   "execution_count": 26,
   "metadata": {},
   "outputs": [
    {
     "name": "stdout",
     "output_type": "stream",
     "text": [
      "<class 'pandas.core.frame.DataFrame'>\n",
      "Int64Index: 925 entries, 0 to 1029\n",
      "Data columns (total 25 columns):\n",
      "stock_n                925 non-null int64\n",
      "mileage                925 non-null int64\n",
      "interior_color         925 non-null object\n",
      "exterior_color         925 non-null object\n",
      "drive_type             925 non-null int64\n",
      "engine_size            925 non-null float64\n",
      "num_cylinders          925 non-null int64\n",
      "hp                     925 non-null int64\n",
      "comp_ratio             925 non-null object\n",
      "cam_shaft              925 non-null object\n",
      "engine_type            925 non-null object\n",
      "bore                   925 non-null float64\n",
      "stroke                 925 non-null float64\n",
      "values_per_cylinder    925 non-null float64\n",
      "wheel_base             925 non-null float64\n",
      "length                 925 non-null float64\n",
      "width                  854 non-null float64\n",
      "height                 924 non-null float64\n",
      "curb_weight            925 non-null int64\n",
      "leg_room               918 non-null float64\n",
      "head_room              918 non-null float64\n",
      "seating_cap            925 non-null int64\n",
      "cargo_cap              873 non-null float64\n",
      "city_mpg               925 non-null int64\n",
      "hw_mpg                 925 non-null int64\n",
      "dtypes: float64(11), int64(9), object(5)\n",
      "memory usage: 187.9+ KB\n"
     ]
    }
   ],
   "source": [
    "car_details.info()"
   ]
  },
  {
   "cell_type": "markdown",
   "metadata": {},
   "source": [
    "### 4. Join car_details with car_list"
   ]
  },
  {
   "cell_type": "code",
   "execution_count": 27,
   "metadata": {},
   "outputs": [
    {
     "name": "stdout",
     "output_type": "stream",
     "text": [
      "1037\n",
      "(1037, 5)\n",
      "924\n",
      "(925, 25)\n"
     ]
    }
   ],
   "source": [
    "# make sure each row corresponds to 1 stock_no\n",
    "\n",
    "print(car_list['stock_n'].nunique())\n",
    "print(car_list.shape)\n",
    "\n",
    "print(car_details['stock_n'].nunique())\n",
    "print(car_details.shape)\n",
    "# they don't"
   ]
  },
  {
   "cell_type": "code",
   "execution_count": 28,
   "metadata": {
    "scrolled": true
   },
   "outputs": [
    {
     "data": {
      "text/plain": [
       "16450950    2\n",
       "Name: stock_n, dtype: int64"
      ]
     },
     "execution_count": 28,
     "metadata": {},
     "output_type": "execute_result"
    }
   ],
   "source": [
    "# looking at the extra values for car_details\n",
    "extra = car_details['stock_n'].value_counts().sort_values(ascending=False)\n",
    "extra = extra[extra >1]\n",
    "extra"
   ]
  },
  {
   "cell_type": "code",
   "execution_count": 29,
   "metadata": {},
   "outputs": [
    {
     "data": {
      "text/plain": [
       "(924, 25)"
      ]
     },
     "execution_count": 29,
     "metadata": {},
     "output_type": "execute_result"
    }
   ],
   "source": [
    "# if i drop all duplicates my shape is the same the nunique for stock no which mean now each row is a unique stock no.\n",
    "car_details = car_details.drop_duplicates()\n",
    "car_details.shape"
   ]
  },
  {
   "cell_type": "code",
   "execution_count": 30,
   "metadata": {},
   "outputs": [
    {
     "data": {
      "text/plain": [
       "(1037, 5)"
      ]
     },
     "execution_count": 30,
     "metadata": {},
     "output_type": "execute_result"
    }
   ],
   "source": [
    "# dropping similarly for car_list\n",
    "car_list = car_list.drop_duplicates()\n",
    "car_list.shape\n",
    "\n",
    "# Hmm  i am not getting the same numner as nunique (1116 vs 1128). what is going on \n"
   ]
  },
  {
   "cell_type": "code",
   "execution_count": 31,
   "metadata": {},
   "outputs": [
    {
     "data": {
      "text/plain": [
       "Series([], Name: stock_n, dtype: int64)"
      ]
     },
     "execution_count": 31,
     "metadata": {},
     "output_type": "execute_result"
    }
   ],
   "source": [
    "# lets check\n",
    "check = car_list['stock_n'].value_counts().sort_values(ascending=False)\n",
    "check = check[check > 1]\n",
    "check"
   ]
  },
  {
   "cell_type": "code",
   "execution_count": 32,
   "metadata": {},
   "outputs": [
    {
     "data": {
      "text/plain": [
       "(1037, 5)"
      ]
     },
     "execution_count": 32,
     "metadata": {},
     "output_type": "execute_result"
    }
   ],
   "source": [
    "# drop stocknumber with ambigous prices\n",
    "l= list(check.index.astype('int'))\n",
    "car_list = car_list.loc[np.logical_not(car_list['stock_n'].isin(l)),:]\n",
    "car_list.shape"
   ]
  },
  {
   "cell_type": "markdown",
   "metadata": {},
   "source": [
    "both car_list and car_details have unique stock number now we do a join so that only rows where the same stock number is carried forward"
   ]
  },
  {
   "cell_type": "code",
   "execution_count": 33,
   "metadata": {},
   "outputs": [
    {
     "data": {
      "text/html": [
       "<div>\n",
       "<style scoped>\n",
       "    .dataframe tbody tr th:only-of-type {\n",
       "        vertical-align: middle;\n",
       "    }\n",
       "\n",
       "    .dataframe tbody tr th {\n",
       "        vertical-align: top;\n",
       "    }\n",
       "\n",
       "    .dataframe thead th {\n",
       "        text-align: right;\n",
       "    }\n",
       "</style>\n",
       "<table border=\"1\" class=\"dataframe\">\n",
       "  <thead>\n",
       "    <tr style=\"text-align: right;\">\n",
       "      <th></th>\n",
       "      <th>stock_n</th>\n",
       "      <th>year</th>\n",
       "      <th>brand</th>\n",
       "      <th>model</th>\n",
       "      <th>price</th>\n",
       "      <th>mileage</th>\n",
       "      <th>interior_color</th>\n",
       "      <th>exterior_color</th>\n",
       "      <th>drive_type</th>\n",
       "      <th>engine_size</th>\n",
       "      <th>num_cylinders</th>\n",
       "      <th>hp</th>\n",
       "      <th>comp_ratio</th>\n",
       "      <th>cam_shaft</th>\n",
       "      <th>engine_type</th>\n",
       "      <th>bore</th>\n",
       "      <th>stroke</th>\n",
       "      <th>values_per_cylinder</th>\n",
       "      <th>wheel_base</th>\n",
       "      <th>length</th>\n",
       "      <th>width</th>\n",
       "      <th>height</th>\n",
       "      <th>curb_weight</th>\n",
       "      <th>leg_room</th>\n",
       "      <th>head_room</th>\n",
       "      <th>seating_cap</th>\n",
       "      <th>cargo_cap</th>\n",
       "      <th>city_mpg</th>\n",
       "      <th>hw_mpg</th>\n",
       "    </tr>\n",
       "  </thead>\n",
       "  <tbody>\n",
       "    <tr>\n",
       "      <th>0</th>\n",
       "      <td>16338689</td>\n",
       "      <td>2012</td>\n",
       "      <td>Honda</td>\n",
       "      <td>Accord EX-L</td>\n",
       "      <td>14998.0</td>\n",
       "      <td>73000</td>\n",
       "      <td>Black</td>\n",
       "      <td>Black</td>\n",
       "      <td>2</td>\n",
       "      <td>3.5</td>\n",
       "      <td>6</td>\n",
       "      <td>271</td>\n",
       "      <td>11:1</td>\n",
       "      <td>Single Overhead Cam</td>\n",
       "      <td>Gas</td>\n",
       "      <td>3.50</td>\n",
       "      <td>3.66</td>\n",
       "      <td>4.0</td>\n",
       "      <td>107.9</td>\n",
       "      <td>191.0</td>\n",
       "      <td>NaN</td>\n",
       "      <td>56.0</td>\n",
       "      <td>3410</td>\n",
       "      <td>42.2</td>\n",
       "      <td>37.4</td>\n",
       "      <td>5</td>\n",
       "      <td>12.0</td>\n",
       "      <td>17</td>\n",
       "      <td>26</td>\n",
       "    </tr>\n",
       "    <tr>\n",
       "      <th>1</th>\n",
       "      <td>16005669</td>\n",
       "      <td>2017</td>\n",
       "      <td>Honda</td>\n",
       "      <td>Accord LX-S</td>\n",
       "      <td>20998.0</td>\n",
       "      <td>5000</td>\n",
       "      <td>Black</td>\n",
       "      <td>Blue</td>\n",
       "      <td>2</td>\n",
       "      <td>2.4</td>\n",
       "      <td>4</td>\n",
       "      <td>185</td>\n",
       "      <td>11.10</td>\n",
       "      <td>Variable Timing</td>\n",
       "      <td>Gas</td>\n",
       "      <td>3.43</td>\n",
       "      <td>3.90</td>\n",
       "      <td>4.0</td>\n",
       "      <td>107.3</td>\n",
       "      <td>189.5</td>\n",
       "      <td>73.0</td>\n",
       "      <td>56.5</td>\n",
       "      <td>3248</td>\n",
       "      <td>42.2</td>\n",
       "      <td>39.0</td>\n",
       "      <td>5</td>\n",
       "      <td>13.7</td>\n",
       "      <td>27</td>\n",
       "      <td>36</td>\n",
       "    </tr>\n",
       "    <tr>\n",
       "      <th>2</th>\n",
       "      <td>16238292</td>\n",
       "      <td>2015</td>\n",
       "      <td>Honda</td>\n",
       "      <td>Accord Sport</td>\n",
       "      <td>16998.0</td>\n",
       "      <td>40000</td>\n",
       "      <td>Black</td>\n",
       "      <td>Red</td>\n",
       "      <td>2</td>\n",
       "      <td>2.4</td>\n",
       "      <td>4</td>\n",
       "      <td>189</td>\n",
       "      <td>11:1</td>\n",
       "      <td>Variable Timing DOHC</td>\n",
       "      <td>Gas</td>\n",
       "      <td>3.43</td>\n",
       "      <td>3.90</td>\n",
       "      <td>4.0</td>\n",
       "      <td>109.3</td>\n",
       "      <td>191.4</td>\n",
       "      <td>72.0</td>\n",
       "      <td>57.0</td>\n",
       "      <td>3342</td>\n",
       "      <td>42.5</td>\n",
       "      <td>39.1</td>\n",
       "      <td>5</td>\n",
       "      <td>16.0</td>\n",
       "      <td>27</td>\n",
       "      <td>36</td>\n",
       "    </tr>\n",
       "    <tr>\n",
       "      <th>3</th>\n",
       "      <td>16238355</td>\n",
       "      <td>2017</td>\n",
       "      <td>Honda</td>\n",
       "      <td>Accord Sport SE</td>\n",
       "      <td>22998.0</td>\n",
       "      <td>21000</td>\n",
       "      <td>Black</td>\n",
       "      <td>Black</td>\n",
       "      <td>2</td>\n",
       "      <td>2.4</td>\n",
       "      <td>4</td>\n",
       "      <td>189</td>\n",
       "      <td>11.10</td>\n",
       "      <td>Variable Timing</td>\n",
       "      <td>Gas</td>\n",
       "      <td>3.43</td>\n",
       "      <td>3.90</td>\n",
       "      <td>4.0</td>\n",
       "      <td>109.3</td>\n",
       "      <td>192.5</td>\n",
       "      <td>72.8</td>\n",
       "      <td>57.7</td>\n",
       "      <td>3369</td>\n",
       "      <td>42.5</td>\n",
       "      <td>39.1</td>\n",
       "      <td>5</td>\n",
       "      <td>15.8</td>\n",
       "      <td>27</td>\n",
       "      <td>36</td>\n",
       "    </tr>\n",
       "    <tr>\n",
       "      <th>4</th>\n",
       "      <td>16238739</td>\n",
       "      <td>2017</td>\n",
       "      <td>Honda</td>\n",
       "      <td>Accord Hybrid</td>\n",
       "      <td>22998.0</td>\n",
       "      <td>23000</td>\n",
       "      <td>Tan</td>\n",
       "      <td>Blue</td>\n",
       "      <td>2</td>\n",
       "      <td>2.0</td>\n",
       "      <td>4</td>\n",
       "      <td>212</td>\n",
       "      <td>13.00</td>\n",
       "      <td>Variable Timing</td>\n",
       "      <td>Gas/Electric</td>\n",
       "      <td>3.19</td>\n",
       "      <td>3.81</td>\n",
       "      <td>4.0</td>\n",
       "      <td>109.3</td>\n",
       "      <td>194.1</td>\n",
       "      <td>72.8</td>\n",
       "      <td>57.5</td>\n",
       "      <td>3550</td>\n",
       "      <td>42.5</td>\n",
       "      <td>39.5</td>\n",
       "      <td>5</td>\n",
       "      <td>13.5</td>\n",
       "      <td>49</td>\n",
       "      <td>47</td>\n",
       "    </tr>\n",
       "  </tbody>\n",
       "</table>\n",
       "</div>"
      ],
      "text/plain": [
       "    stock_n  year  brand            model    price  mileage interior_color  \\\n",
       "0  16338689  2012  Honda      Accord EX-L  14998.0    73000          Black   \n",
       "1  16005669  2017  Honda      Accord LX-S  20998.0     5000          Black   \n",
       "2  16238292  2015  Honda     Accord Sport  16998.0    40000          Black   \n",
       "3  16238355  2017  Honda  Accord Sport SE  22998.0    21000          Black   \n",
       "4  16238739  2017  Honda    Accord Hybrid  22998.0    23000            Tan   \n",
       "\n",
       "  exterior_color  drive_type  engine_size  num_cylinders   hp comp_ratio  \\\n",
       "0          Black           2          3.5              6  271       11:1   \n",
       "1           Blue           2          2.4              4  185      11.10   \n",
       "2            Red           2          2.4              4  189       11:1   \n",
       "3          Black           2          2.4              4  189      11.10   \n",
       "4           Blue           2          2.0              4  212      13.00   \n",
       "\n",
       "              cam_shaft   engine_type  bore  stroke  values_per_cylinder  \\\n",
       "0   Single Overhead Cam           Gas  3.50    3.66                  4.0   \n",
       "1       Variable Timing           Gas  3.43    3.90                  4.0   \n",
       "2  Variable Timing DOHC           Gas  3.43    3.90                  4.0   \n",
       "3       Variable Timing           Gas  3.43    3.90                  4.0   \n",
       "4       Variable Timing  Gas/Electric  3.19    3.81                  4.0   \n",
       "\n",
       "   wheel_base  length  width  height  curb_weight  leg_room  head_room  \\\n",
       "0       107.9   191.0    NaN    56.0         3410      42.2       37.4   \n",
       "1       107.3   189.5   73.0    56.5         3248      42.2       39.0   \n",
       "2       109.3   191.4   72.0    57.0         3342      42.5       39.1   \n",
       "3       109.3   192.5   72.8    57.7         3369      42.5       39.1   \n",
       "4       109.3   194.1   72.8    57.5         3550      42.5       39.5   \n",
       "\n",
       "   seating_cap  cargo_cap  city_mpg  hw_mpg  \n",
       "0            5       12.0        17      26  \n",
       "1            5       13.7        27      36  \n",
       "2            5       16.0        27      36  \n",
       "3            5       15.8        27      36  \n",
       "4            5       13.5        49      47  "
      ]
     },
     "execution_count": 33,
     "metadata": {},
     "output_type": "execute_result"
    }
   ],
   "source": [
    "result = pd.merge(car_list, car_details, how='inner', on=['stock_n', 'stock_n'])\n",
    "result.head()"
   ]
  },
  {
   "cell_type": "markdown",
   "metadata": {},
   "source": [
    "### 5. Write to file"
   ]
  },
  {
   "cell_type": "code",
   "execution_count": 34,
   "metadata": {},
   "outputs": [
    {
     "name": "stdout",
     "output_type": "stream",
     "text": [
      "exists = yes\n"
     ]
    }
   ],
   "source": [
    "file_name = '../data/final_data.csv'\n",
    "from pathlib import Path\n",
    "config = Path('../data/final_data.csv')\n",
    "if config.is_file():\n",
    "    print('exists = yes')\n",
    "    with open(file_name, 'a') as f:\n",
    "        result.to_csv(f, header=False)\n",
    "else:\n",
    "    print('exists = no')\n",
    "    with open(file_name, 'a') as f:\n",
    "        result.to_csv(f, header=True)\n",
    "    "
   ]
  },
  {
   "cell_type": "markdown",
   "metadata": {},
   "source": [
    "### 6. Check the final_data.csv\n",
    "Make sure there are no duplicates as we page scrap mulitple times and keep adding these in"
   ]
  },
  {
   "cell_type": "code",
   "execution_count": 4,
   "metadata": {},
   "outputs": [
    {
     "data": {
      "text/plain": [
       "(1781, 29)"
      ]
     },
     "execution_count": 4,
     "metadata": {},
     "output_type": "execute_result"
    }
   ],
   "source": [
    "df_check = pd.read_csv('../data/final_data.csv')\n",
    "df_check = df_check.drop(columns=\"Unnamed: 0\")\n",
    "df_check.shape"
   ]
  },
  {
   "cell_type": "code",
   "execution_count": 39,
   "metadata": {},
   "outputs": [
    {
     "data": {
      "text/plain": [
       "1781"
      ]
     },
     "execution_count": 39,
     "metadata": {},
     "output_type": "execute_result"
    }
   ],
   "source": [
    "df_check['stock_n'].nunique()"
   ]
  },
  {
   "cell_type": "code",
   "execution_count": 40,
   "metadata": {},
   "outputs": [
    {
     "data": {
      "text/plain": [
       "(1781, 29)"
      ]
     },
     "execution_count": 40,
     "metadata": {},
     "output_type": "execute_result"
    }
   ],
   "source": [
    "df_check = df_check.drop_duplicates()\n",
    "df_check.shape"
   ]
  },
  {
   "cell_type": "code",
   "execution_count": 41,
   "metadata": {},
   "outputs": [
    {
     "data": {
      "text/plain": [
       "Series([], Name: stock_n, dtype: int64)"
      ]
     },
     "execution_count": 41,
     "metadata": {},
     "output_type": "execute_result"
    }
   ],
   "source": [
    "x=df_check['stock_n'].value_counts()\n",
    "x=x[x>1]\n",
    "x"
   ]
  },
  {
   "cell_type": "code",
   "execution_count": 42,
   "metadata": {},
   "outputs": [
    {
     "data": {
      "text/plain": [
       "(1781, 29)"
      ]
     },
     "execution_count": 42,
     "metadata": {},
     "output_type": "execute_result"
    }
   ],
   "source": [
    "y= list(x.index.astype('int'))\n",
    "car_c = df_check\n",
    "car_c = car_c.loc[np.logical_not(car_c['stock_n'].isin(y)),:]\n",
    "car_c.shape"
   ]
  },
  {
   "cell_type": "code",
   "execution_count": 43,
   "metadata": {},
   "outputs": [],
   "source": [
    "car_c.to_csv('../data/final_data.csv')"
   ]
  },
  {
   "cell_type": "markdown",
   "metadata": {},
   "source": [
    "### next -> encode_data.ipynb"
   ]
  },
  {
   "cell_type": "code",
   "execution_count": null,
   "metadata": {},
   "outputs": [],
   "source": []
  }
 ],
 "metadata": {
  "kernelspec": {
   "display_name": "Python 3",
   "language": "python",
   "name": "python3"
  },
  "language_info": {
   "codemirror_mode": {
    "name": "ipython",
    "version": 3
   },
   "file_extension": ".py",
   "mimetype": "text/x-python",
   "name": "python",
   "nbconvert_exporter": "python",
   "pygments_lexer": "ipython3",
   "version": "3.6.6"
  }
 },
 "nbformat": 4,
 "nbformat_minor": 2
}
