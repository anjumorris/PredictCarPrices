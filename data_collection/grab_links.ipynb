{
 "cells": [
  {
   "cell_type": "markdown",
   "metadata": {},
   "source": [
    "# Data Collection - PART 1\n",
    "## Notebook to grab links. \n",
    "Carmax doesn't give links directly so we need to grab the stockno from each of the banners and then use these to generate links "
   ]
  },
  {
   "cell_type": "code",
   "execution_count": 7,
   "metadata": {},
   "outputs": [],
   "source": [
    "from selenium import webdriver\n",
    "from selenium.webdriver.common.keys import Keys\n",
    "import time\n",
    "import math\n",
    "import os\n",
    "chromedriver = f\"{os.environ['HOME']}/.local/bin/chromedriver\" # path to the chromedriver executable\n",
    "os.environ[\"webdriver.chrome.driver\"] = chromedriver"
   ]
  },
  {
   "cell_type": "code",
   "execution_count": 8,
   "metadata": {},
   "outputs": [],
   "source": [
    "driver = webdriver.Chrome(chromedriver)\n",
    "driver.get(\"https://www.carmax.com/search#BT=0&Distance=250&ExposedCategories=249+250+1001+1000+265+999+772&ExposedDimensions=249+250+1001+1000+265+999+772&MaxYear=2019&MinYear=2008&Page=1&PerPage=50&SortKey=0&Zip=98101\")\n",
    "time.sleep(2);"
   ]
  },
  {
   "cell_type": "markdown",
   "metadata": {},
   "source": [
    "### 1. Read the total number of matches\n",
    "Get the number of matches so that I know how many time to click the next button "
   ]
  },
  {
   "cell_type": "code",
   "execution_count": 9,
   "metadata": {},
   "outputs": [
    {
     "name": "stdout",
     "output_type": "stream",
     "text": [
      "1293\n",
      "26\n"
     ]
    }
   ],
   "source": [
    "#matches =\n",
    "page_selector = '//span[@class=\"light-blue\"]'\n",
    "matches=driver.find_element_by_xpath(page_selector).text.split()[0].replace(\",\",\"\")\n",
    "print(matches)\n",
    "n = math.ceil(int(matches)/50)\n",
    "print(n)"
   ]
  },
  {
   "cell_type": "markdown",
   "metadata": {},
   "source": [
    "### 2. Grab from each page multiple banners \n",
    "store is a list which stores all the stuff we grab from each page about 50 different entries/banners at a time"
   ]
  },
  {
   "cell_type": "code",
   "execution_count": 10,
   "metadata": {},
   "outputs": [],
   "source": [
    "store =[]"
   ]
  },
  {
   "cell_type": "code",
   "execution_count": 11,
   "metadata": {},
   "outputs": [
    {
     "name": "stdout",
     "output_type": "stream",
     "text": [
      "------\n",
      "150\n",
      "------\n",
      "300\n",
      "------\n",
      "450\n",
      "------\n",
      "600\n",
      "------\n",
      "750\n",
      "------\n",
      "900\n",
      "------\n",
      "1050\n",
      "------\n",
      "1200\n",
      "------\n",
      "1350\n",
      "------\n",
      "1500\n",
      "------\n",
      "1650\n",
      "------\n",
      "1800\n",
      "------\n",
      "1950\n",
      "------\n",
      "2100\n",
      "------\n",
      "2250\n",
      "------\n",
      "2400\n",
      "------\n",
      "2550\n",
      "------\n",
      "2700\n",
      "------\n",
      "2850\n",
      "------\n",
      "3000\n",
      "------\n",
      "3150\n",
      "------\n",
      "3300\n",
      "------\n",
      "3450\n",
      "------\n",
      "3600\n",
      "------\n",
      "3750\n",
      "------\n",
      "3900\n"
     ]
    }
   ],
   "source": [
    "# 'contains' will find a match on the text, in this case return b tag\n",
    "page = 1\n",
    "while(page<=n):\n",
    "    gross_selector = '//span[@content]'\n",
    "    for car in driver.find_elements_by_xpath(gross_selector):\n",
    "        store.append(car.get_attribute('content'))\n",
    "    print(\"------\")\n",
    "    #print(store[-1])\n",
    "    print(len(store))\n",
    "    \n",
    "    # find the next button and click it  \n",
    "    go_button = driver.find_element_by_xpath('//a[@class=\"pagination--next\"]') \n",
    "    go_button.click()\n",
    "    time.sleep(5);\n",
    "    page+=1\n"
   ]
  },
  {
   "cell_type": "code",
   "execution_count": 12,
   "metadata": {},
   "outputs": [
    {
     "name": "stdout",
     "output_type": "stream",
     "text": [
      "['16237735 2013 Audi A5 Premium', 'USD', '21998.00', '16237784 2014 Audi A5 Premium Plus', 'USD', '22998.00', '16238238 2013 Audi Q5 Premium Plus', 'USD', '26998.00', '15411470 2013 Audi RS5']\n",
      "3900\n"
     ]
    }
   ],
   "source": [
    "# looking at what I have got . I get data in this sequence stock_no model details, USD(unwanted), price i \n",
    "print(store[:10])\n",
    "print(len(store))"
   ]
  },
  {
   "cell_type": "markdown",
   "metadata": {},
   "source": [
    "### 3. Iterate through store\n",
    "Iterate through store and make a order the following\n",
    "1. a list of list - structured[] - that contains stock_no,brand,model no\n",
    "2. a list of prices - prices []"
   ]
  },
  {
   "cell_type": "code",
   "execution_count": 13,
   "metadata": {},
   "outputs": [
    {
     "name": "stdout",
     "output_type": "stream",
     "text": [
      "[[16237735, 2013, 'Audi', 'A5 Premium'], [16237784, 2014, 'Audi', 'A5 Premium Plus'], [16238238, 2013, 'Audi', 'Q5 Premium Plus'], [15411470, 2013, 'Audi', 'RS5'], [15952558, 2015, 'BMW', 'X4 XDrive35i'], [16568229, 2013, 'Cadillac', 'ATS Premium'], [16238577, 2012, 'Cadillac', 'CTS Luxury'], [16171245, 2012, 'Chevrolet', 'Avalanche 1500 LT'], [16171094, 2012, 'Chevrolet', 'Avalanche 1500 LTZ'], [16237838, 2017, 'Chevrolet', 'Camaro LT']]\n",
      "[21998.0, 22998.0, 26998.0, 41998.0, 34998.0, 21998.0, 16998.0, 21998.0, 27998.0, 25998.0]\n"
     ]
    }
   ],
   "source": [
    "row_counter = 0\n",
    "structured = []\n",
    "price = []\n",
    "\n",
    "for data in store:\n",
    "    if(row_counter%3==0): # pickup the stockno brand model\n",
    "        main_str = data\n",
    "        temp = [int(main_str.split(' ',3)[0]),int(main_str.split(' ',3)[1]),main_str.split(' ',3)[2],main_str.split(' ',3)[3]]\n",
    "        structured.append(temp)\n",
    "    if(row_counter%3==2): # pick up the price \n",
    "        main_str = data\n",
    "        #print('----',main_str)\n",
    "        price.append(float(main_str))\n",
    "    row_counter +=1\n",
    "print(structured[:10])\n",
    "print(price[:10])"
   ]
  },
  {
   "cell_type": "code",
   "execution_count": 14,
   "metadata": {},
   "outputs": [
    {
     "name": "stdout",
     "output_type": "stream",
     "text": [
      "1300\n",
      "1300\n"
     ]
    }
   ],
   "source": [
    "print(len(structured))\n",
    "print(len(price))"
   ]
  },
  {
   "cell_type": "markdown",
   "metadata": {},
   "source": [
    "### 4. Put everything in a nice panda "
   ]
  },
  {
   "cell_type": "code",
   "execution_count": 15,
   "metadata": {},
   "outputs": [
    {
     "data": {
      "text/html": [
       "<div>\n",
       "<style scoped>\n",
       "    .dataframe tbody tr th:only-of-type {\n",
       "        vertical-align: middle;\n",
       "    }\n",
       "\n",
       "    .dataframe tbody tr th {\n",
       "        vertical-align: top;\n",
       "    }\n",
       "\n",
       "    .dataframe thead th {\n",
       "        text-align: right;\n",
       "    }\n",
       "</style>\n",
       "<table border=\"1\" class=\"dataframe\">\n",
       "  <thead>\n",
       "    <tr style=\"text-align: right;\">\n",
       "      <th></th>\n",
       "      <th>stock_n</th>\n",
       "      <th>year</th>\n",
       "      <th>brand</th>\n",
       "      <th>model</th>\n",
       "    </tr>\n",
       "  </thead>\n",
       "  <tbody>\n",
       "    <tr>\n",
       "      <th>0</th>\n",
       "      <td>16237735</td>\n",
       "      <td>2013</td>\n",
       "      <td>Audi</td>\n",
       "      <td>A5 Premium</td>\n",
       "    </tr>\n",
       "    <tr>\n",
       "      <th>1</th>\n",
       "      <td>16237784</td>\n",
       "      <td>2014</td>\n",
       "      <td>Audi</td>\n",
       "      <td>A5 Premium Plus</td>\n",
       "    </tr>\n",
       "    <tr>\n",
       "      <th>2</th>\n",
       "      <td>16238238</td>\n",
       "      <td>2013</td>\n",
       "      <td>Audi</td>\n",
       "      <td>Q5 Premium Plus</td>\n",
       "    </tr>\n",
       "    <tr>\n",
       "      <th>3</th>\n",
       "      <td>15411470</td>\n",
       "      <td>2013</td>\n",
       "      <td>Audi</td>\n",
       "      <td>RS5</td>\n",
       "    </tr>\n",
       "    <tr>\n",
       "      <th>4</th>\n",
       "      <td>15952558</td>\n",
       "      <td>2015</td>\n",
       "      <td>BMW</td>\n",
       "      <td>X4 XDrive35i</td>\n",
       "    </tr>\n",
       "  </tbody>\n",
       "</table>\n",
       "</div>"
      ],
      "text/plain": [
       "    stock_n  year brand            model\n",
       "0  16237735  2013  Audi       A5 Premium\n",
       "1  16237784  2014  Audi  A5 Premium Plus\n",
       "2  16238238  2013  Audi  Q5 Premium Plus\n",
       "3  15411470  2013  Audi              RS5\n",
       "4  15952558  2015   BMW     X4 XDrive35i"
      ]
     },
     "execution_count": 15,
     "metadata": {},
     "output_type": "execute_result"
    }
   ],
   "source": [
    "import pandas as pd\n",
    "headings =['stock_n','year','brand','model']\n",
    "df_cars=pd.DataFrame(structured,columns=headings)\n",
    "df_cars.head()"
   ]
  },
  {
   "cell_type": "code",
   "execution_count": 16,
   "metadata": {},
   "outputs": [
    {
     "data": {
      "text/html": [
       "<div>\n",
       "<style scoped>\n",
       "    .dataframe tbody tr th:only-of-type {\n",
       "        vertical-align: middle;\n",
       "    }\n",
       "\n",
       "    .dataframe tbody tr th {\n",
       "        vertical-align: top;\n",
       "    }\n",
       "\n",
       "    .dataframe thead th {\n",
       "        text-align: right;\n",
       "    }\n",
       "</style>\n",
       "<table border=\"1\" class=\"dataframe\">\n",
       "  <thead>\n",
       "    <tr style=\"text-align: right;\">\n",
       "      <th></th>\n",
       "      <th>stock_n</th>\n",
       "      <th>year</th>\n",
       "      <th>brand</th>\n",
       "      <th>model</th>\n",
       "      <th>price</th>\n",
       "    </tr>\n",
       "  </thead>\n",
       "  <tbody>\n",
       "    <tr>\n",
       "      <th>0</th>\n",
       "      <td>16237735</td>\n",
       "      <td>2013</td>\n",
       "      <td>Audi</td>\n",
       "      <td>A5 Premium</td>\n",
       "      <td>21998.0</td>\n",
       "    </tr>\n",
       "    <tr>\n",
       "      <th>1</th>\n",
       "      <td>16237784</td>\n",
       "      <td>2014</td>\n",
       "      <td>Audi</td>\n",
       "      <td>A5 Premium Plus</td>\n",
       "      <td>22998.0</td>\n",
       "    </tr>\n",
       "    <tr>\n",
       "      <th>2</th>\n",
       "      <td>16238238</td>\n",
       "      <td>2013</td>\n",
       "      <td>Audi</td>\n",
       "      <td>Q5 Premium Plus</td>\n",
       "      <td>26998.0</td>\n",
       "    </tr>\n",
       "    <tr>\n",
       "      <th>3</th>\n",
       "      <td>15411470</td>\n",
       "      <td>2013</td>\n",
       "      <td>Audi</td>\n",
       "      <td>RS5</td>\n",
       "      <td>41998.0</td>\n",
       "    </tr>\n",
       "    <tr>\n",
       "      <th>4</th>\n",
       "      <td>15952558</td>\n",
       "      <td>2015</td>\n",
       "      <td>BMW</td>\n",
       "      <td>X4 XDrive35i</td>\n",
       "      <td>34998.0</td>\n",
       "    </tr>\n",
       "  </tbody>\n",
       "</table>\n",
       "</div>"
      ],
      "text/plain": [
       "    stock_n  year brand            model    price\n",
       "0  16237735  2013  Audi       A5 Premium  21998.0\n",
       "1  16237784  2014  Audi  A5 Premium Plus  22998.0\n",
       "2  16238238  2013  Audi  Q5 Premium Plus  26998.0\n",
       "3  15411470  2013  Audi              RS5  41998.0\n",
       "4  15952558  2015   BMW     X4 XDrive35i  34998.0"
      ]
     },
     "execution_count": 16,
     "metadata": {},
     "output_type": "execute_result"
    }
   ],
   "source": [
    "df_cars['price'] = price\n",
    "df_cars.head()\n"
   ]
  },
  {
   "cell_type": "code",
   "execution_count": 17,
   "metadata": {},
   "outputs": [
    {
     "name": "stdout",
     "output_type": "stream",
     "text": [
      "<class 'pandas.core.frame.DataFrame'>\n",
      "RangeIndex: 1300 entries, 0 to 1299\n",
      "Data columns (total 5 columns):\n",
      "stock_n    1300 non-null int64\n",
      "year       1300 non-null int64\n",
      "brand      1300 non-null object\n",
      "model      1300 non-null object\n",
      "price      1300 non-null float64\n",
      "dtypes: float64(1), int64(2), object(2)\n",
      "memory usage: 50.9+ KB\n"
     ]
    }
   ],
   "source": [
    "df_cars.info()"
   ]
  },
  {
   "cell_type": "markdown",
   "metadata": {},
   "source": [
    "### 5. Write to a file car_list.csv"
   ]
  },
  {
   "cell_type": "code",
   "execution_count": 21,
   "metadata": {},
   "outputs": [],
   "source": [
    "df_cars.to_csv('../data/car_list.csv')"
   ]
  },
  {
   "cell_type": "code",
   "execution_count": 19,
   "metadata": {},
   "outputs": [],
   "source": [
    "driver.close()"
   ]
  },
  {
   "cell_type": "markdown",
   "metadata": {},
   "source": [
    "### next -> page_scrap.ipynb"
   ]
  }
 ],
 "metadata": {
  "kernelspec": {
   "display_name": "Python 3",
   "language": "python",
   "name": "python3"
  },
  "language_info": {
   "codemirror_mode": {
    "name": "ipython",
    "version": 3
   },
   "file_extension": ".py",
   "mimetype": "text/x-python",
   "name": "python",
   "nbconvert_exporter": "python",
   "pygments_lexer": "ipython3",
   "version": "3.6.6"
  }
 },
 "nbformat": 4,
 "nbformat_minor": 2
}
